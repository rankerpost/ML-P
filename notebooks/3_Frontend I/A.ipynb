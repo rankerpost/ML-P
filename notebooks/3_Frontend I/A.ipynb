{
 "cells": [
  {
   "attachments": {},
   "cell_type": "markdown",
   "id": "5134d1cc",
   "metadata": {},
   "source": [
    "# Simulate app form prediction process"
   ]
  },
  {
   "attachments": {},
   "cell_type": "markdown",
   "id": "380ecbe3",
   "metadata": {},
   "source": [
    "## Load pipeline artifact"
   ]
  },
  {
   "cell_type": "code",
   "execution_count": null,
   "id": "05af2f5a",
   "metadata": {
    "execution": {
     "iopub.execute_input": "2024-05-10T12:10:24.427542Z",
     "iopub.status.busy": "2024-05-10T12:10:24.427382Z",
     "iopub.status.idle": "2024-05-10T12:10:24.717380Z",
     "shell.execute_reply": "2024-05-10T12:10:24.716981Z"
    },
    "papermill": {
     "duration": 0.292911,
     "end_time": "2024-05-10T12:10:24.718385",
     "exception": false,
     "start_time": "2024-05-10T12:10:24.425474",
     "status": "completed"
    },
    "tags": []
   },
   "outputs": [],
   "source": []
  },
  {
   "cell_type": "code",
   "execution_count": null,
   "id": "631c2db9",
   "metadata": {
    "execution": {
     "iopub.execute_input": "2024-05-10T12:10:24.720830Z",
     "iopub.status.busy": "2024-05-10T12:10:24.720647Z",
     "iopub.status.idle": "2024-05-10T12:10:24.723949Z",
     "shell.execute_reply": "2024-05-10T12:10:24.723702Z"
    },
    "papermill": {
     "duration": 0.005305,
     "end_time": "2024-05-10T12:10:24.724701",
     "exception": false,
     "start_time": "2024-05-10T12:10:24.719396",
     "status": "completed"
    },
    "tags": []
   },
   "outputs": [
    {
     "data": {
      "text/plain": [
       "array(['Industry', 'Ethnicity', 'Gender', 'Age', 'CivilStatus',\n",
       "       'YearsEmployed', 'Income'], dtype=object)"
      ]
     },
     "execution_count": null,
     "metadata": {},
     "output_type": "execute_result"
    }
   ],
   "source": []
  },
  {
   "attachments": {},
   "cell_type": "markdown",
   "id": "1bc662fe",
   "metadata": {},
   "source": [
    "## Estructure categorical data options"
   ]
  },
  {
   "cell_type": "markdown",
   "id": "dbd41fce",
   "metadata": {},
   "source": [
    "### Feature names and categories"
   ]
  },
  {
   "cell_type": "code",
   "execution_count": null,
   "id": "36064a3f",
   "metadata": {
    "execution": {
     "iopub.execute_input": "2024-05-10T12:10:24.726326Z",
     "iopub.status.busy": "2024-05-10T12:10:24.726220Z",
     "iopub.status.idle": "2024-05-10T12:10:24.727918Z",
     "shell.execute_reply": "2024-05-10T12:10:24.727719Z"
    },
    "papermill": {
     "duration": 0.003218,
     "end_time": "2024-05-10T12:10:24.728562",
     "exception": false,
     "start_time": "2024-05-10T12:10:24.725344",
     "status": "completed"
    },
    "tags": []
   },
   "outputs": [],
   "source": []
  },
  {
   "cell_type": "code",
   "execution_count": null,
   "id": "5b7e51e2",
   "metadata": {},
   "outputs": [
    {
     "data": {
      "text/plain": [
       "array(['Industry', 'Ethnicity', 'Gender', 'CivilStatus'], dtype=object)"
      ]
     },
     "execution_count": null,
     "metadata": {},
     "output_type": "execute_result"
    }
   ],
   "source": []
  },
  {
   "cell_type": "code",
   "execution_count": null,
   "id": "efca8cf1",
   "metadata": {},
   "outputs": [
    {
     "data": {
      "text/plain": [
       "[array(['CommunicationServices', 'ConsumerDiscretionary',\n",
       "        'ConsumerStaples', 'Education', 'Energy', 'Financials',\n",
       "        'Healthcare', 'Industrials', 'InformationTechnology', 'Materials',\n",
       "        'Real Estate', 'Research', 'Transport', 'Utilities'], dtype=object),\n",
       " array(['Asian', 'Black', 'Latino', 'Other', 'White'], dtype=object),\n",
       " array(['Female', 'Male'], dtype=object),\n",
       " array(['Married', 'Other'], dtype=object)]"
      ]
     },
     "execution_count": null,
     "metadata": {},
     "output_type": "execute_result"
    }
   ],
   "source": []
  },
  {
   "cell_type": "code",
   "execution_count": null,
   "id": "08b47251",
   "metadata": {
    "execution": {
     "iopub.execute_input": "2024-05-10T12:10:24.729997Z",
     "iopub.status.busy": "2024-05-10T12:10:24.729907Z",
     "iopub.status.idle": "2024-05-10T12:10:24.732005Z",
     "shell.execute_reply": "2024-05-10T12:10:24.731838Z"
    },
    "papermill": {
     "duration": 0.003534,
     "end_time": "2024-05-10T12:10:24.732624",
     "exception": false,
     "start_time": "2024-05-10T12:10:24.729090",
     "status": "completed"
    },
    "tags": []
   },
   "outputs": [
    {
     "data": {
      "text/plain": [
       "{'Industry': ['CommunicationServices',\n",
       "  'ConsumerDiscretionary',\n",
       "  'ConsumerStaples',\n",
       "  'Education',\n",
       "  'Energy',\n",
       "  'Financials',\n",
       "  'Healthcare',\n",
       "  'Industrials',\n",
       "  'InformationTechnology',\n",
       "  'Materials',\n",
       "  'Real Estate',\n",
       "  'Research',\n",
       "  'Transport',\n",
       "  'Utilities'],\n",
       " 'Ethnicity': ['Asian', 'Black', 'Latino', 'Other', 'White'],\n",
       " 'Gender': ['Female', 'Male'],\n",
       " 'CivilStatus': ['Married', 'Other']}"
      ]
     },
     "execution_count": null,
     "metadata": {},
     "output_type": "execute_result"
    }
   ],
   "source": []
  },
  {
   "attachments": {},
   "cell_type": "markdown",
   "id": "c57eb46b",
   "metadata": {},
   "source": [
    "### Export options to file"
   ]
  },
  {
   "cell_type": "code",
   "execution_count": null,
   "id": "55f891ff",
   "metadata": {
    "execution": {
     "iopub.execute_input": "2024-05-10T12:10:24.738206Z",
     "iopub.status.busy": "2024-05-10T12:10:24.738117Z",
     "iopub.status.idle": "2024-05-10T12:10:24.739854Z",
     "shell.execute_reply": "2024-05-10T12:10:24.739686Z"
    },
    "papermill": {
     "duration": 0.003434,
     "end_time": "2024-05-10T12:10:24.740486",
     "exception": false,
     "start_time": "2024-05-10T12:10:24.737052",
     "status": "completed"
    },
    "tags": []
   },
   "outputs": [],
   "source": []
  },
  {
   "cell_type": "markdown",
   "id": "5df91767",
   "metadata": {},
   "source": [
    "## Estructure numerical data options"
   ]
  },
  {
   "cell_type": "markdown",
   "id": "d0dee132",
   "metadata": {},
   "source": [
    "### Feature names"
   ]
  },
  {
   "cell_type": "code",
   "execution_count": null,
   "id": "1a8c03ef",
   "metadata": {},
   "outputs": [
    {
     "data": {
      "text/plain": [
       "['Age', 'YearsEmployed', 'Income']"
      ]
     },
     "execution_count": null,
     "metadata": {},
     "output_type": "execute_result"
    }
   ],
   "source": []
  },
  {
   "cell_type": "markdown",
   "id": "fbb9a405",
   "metadata": {},
   "source": [
    "### Average value by default"
   ]
  },
  {
   "cell_type": "code",
   "execution_count": null,
   "id": "39e8d7cf",
   "metadata": {},
   "outputs": [
    {
     "data": {
      "text/html": [
       "<div>\n",
       "<style scoped>\n",
       "    .dataframe tbody tr th:only-of-type {\n",
       "        vertical-align: middle;\n",
       "    }\n",
       "\n",
       "    .dataframe tbody tr th {\n",
       "        vertical-align: top;\n",
       "    }\n",
       "\n",
       "    .dataframe thead th {\n",
       "        text-align: right;\n",
       "    }\n",
       "</style>\n",
       "<table border=\"1\" class=\"dataframe\">\n",
       "  <thead>\n",
       "    <tr style=\"text-align: right;\">\n",
       "      <th></th>\n",
       "      <th>Industry</th>\n",
       "      <th>Ethnicity</th>\n",
       "      <th>Gender</th>\n",
       "      <th>Age</th>\n",
       "      <th>CivilStatus</th>\n",
       "      <th>YearsEmployed</th>\n",
       "      <th>Income</th>\n",
       "      <th>Approved</th>\n",
       "    </tr>\n",
       "  </thead>\n",
       "  <tbody>\n",
       "    <tr>\n",
       "      <th>0</th>\n",
       "      <td>Industrials</td>\n",
       "      <td>White</td>\n",
       "      <td>Male</td>\n",
       "      <td>30</td>\n",
       "      <td>Married</td>\n",
       "      <td>1.25</td>\n",
       "      <td>0</td>\n",
       "      <td>1</td>\n",
       "    </tr>\n",
       "    <tr>\n",
       "      <th>1</th>\n",
       "      <td>Materials</td>\n",
       "      <td>Black</td>\n",
       "      <td>Female</td>\n",
       "      <td>58</td>\n",
       "      <td>Married</td>\n",
       "      <td>3.04</td>\n",
       "      <td>560</td>\n",
       "      <td>1</td>\n",
       "    </tr>\n",
       "    <tr>\n",
       "      <th>...</th>\n",
       "      <td>...</td>\n",
       "      <td>...</td>\n",
       "      <td>...</td>\n",
       "      <td>...</td>\n",
       "      <td>...</td>\n",
       "      <td>...</td>\n",
       "      <td>...</td>\n",
       "      <td>...</td>\n",
       "    </tr>\n",
       "    <tr>\n",
       "      <th>688</th>\n",
       "      <td>ConsumerStaples</td>\n",
       "      <td>White</td>\n",
       "      <td>Male</td>\n",
       "      <td>17</td>\n",
       "      <td>Married</td>\n",
       "      <td>0.04</td>\n",
       "      <td>750</td>\n",
       "      <td>0</td>\n",
       "    </tr>\n",
       "    <tr>\n",
       "      <th>689</th>\n",
       "      <td>Energy</td>\n",
       "      <td>Black</td>\n",
       "      <td>Male</td>\n",
       "      <td>35</td>\n",
       "      <td>Married</td>\n",
       "      <td>8.29</td>\n",
       "      <td>0</td>\n",
       "      <td>0</td>\n",
       "    </tr>\n",
       "  </tbody>\n",
       "</table>\n",
       "<p>690 rows × 8 columns</p>\n",
       "</div>"
      ],
      "text/plain": [
       "            Industry Ethnicity  Gender  Age CivilStatus  YearsEmployed  \\\n",
       "0        Industrials     White    Male   30     Married           1.25   \n",
       "1          Materials     Black  Female   58     Married           3.04   \n",
       "..               ...       ...     ...  ...         ...            ...   \n",
       "688  ConsumerStaples     White    Male   17     Married           0.04   \n",
       "689           Energy     Black    Male   35     Married           8.29   \n",
       "\n",
       "     Income  Approved  \n",
       "0         0         1  \n",
       "1       560         1  \n",
       "..      ...       ...  \n",
       "688     750         0  \n",
       "689       0         0  \n",
       "\n",
       "[690 rows x 8 columns]"
      ]
     },
     "execution_count": null,
     "metadata": {},
     "output_type": "execute_result"
    }
   ],
   "source": []
  },
  {
   "cell_type": "code",
   "execution_count": null,
   "id": "098c233b",
   "metadata": {},
   "outputs": [],
   "source": []
  },
  {
   "cell_type": "markdown",
   "id": "8566b15d",
   "metadata": {},
   "source": [
    "### Export options to file"
   ]
  },
  {
   "cell_type": "code",
   "execution_count": null,
   "id": "33c0e593",
   "metadata": {},
   "outputs": [],
   "source": []
  }
 ],
 "metadata": {
  "kernelspec": {
   "display_name": "work",
   "language": "python",
   "name": "python3"
  },
  "language_info": {
   "codemirror_mode": {
    "name": "ipython",
    "version": 3
   },
   "file_extension": ".py",
   "mimetype": "text/x-python",
   "name": "python",
   "nbconvert_exporter": "python",
   "pygments_lexer": "ipython3",
   "version": "3.12.2"
  },
  "papermill": {
   "default_parameters": {},
   "duration": 1.458762,
   "end_time": "2024-05-10T12:10:24.957490",
   "environment_variables": {},
   "exception": null,
   "input_path": "/Users/sota/Dropbox/2 Business/1 Datons/2 Areas/Courses/03 ML/materials/notebooks/50_Model Deployment/02_Web Calculator/B.ipynb",
   "output_path": "/Users/sota/Dropbox/2 Business/1 Datons/2 Areas/Courses/03 ML/materials/notebooks/50_Model Deployment/02_Web Calculator/B.ipynb",
   "parameters": {},
   "start_time": "2024-05-10T12:10:23.498728",
   "version": "2.5.0"
  }
 },
 "nbformat": 4,
 "nbformat_minor": 5
}
